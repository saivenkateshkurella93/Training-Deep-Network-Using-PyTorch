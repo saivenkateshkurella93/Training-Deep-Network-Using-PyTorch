{
 "cells": [
  {
   "cell_type": "code",
   "execution_count": 1,
   "metadata": {},
   "outputs": [],
   "source": [
    "import numpy as np\n",
    "import torch\n",
    "import torch.nn as nn\n",
    "import torch.optim as optim\n",
    "import torch.nn.functional as F\n",
    "from torchvision import transforms, datasets\n",
    "\n",
    "import matplotlib.pyplot as plt\n",
    "import seaborn as sns\n",
    "sns.set(context='poster')\n",
    "%matplotlib inline"
   ]
  },
  {
   "cell_type": "code",
   "execution_count": 2,
   "metadata": {},
   "outputs": [],
   "source": [
    "train_transformer = transforms.Compose([\n",
    "    transforms.RandomHorizontalFlip(),\n",
    "    transforms.RandomRotation(degrees=15),\n",
    "    transforms.ToTensor()])\n",
    "val_transformer = transforms.Compose([\n",
    "    transforms.ToTensor()])"
   ]
  },
  {
   "cell_type": "code",
   "execution_count": 3,
   "metadata": {},
   "outputs": [
    {
     "name": "stdout",
     "output_type": "stream",
     "text": [
      "Downloading http://fashion-mnist.s3-website.eu-central-1.amazonaws.com/train-images-idx3-ubyte.gz\n",
      "Downloading http://fashion-mnist.s3-website.eu-central-1.amazonaws.com/train-labels-idx1-ubyte.gz\n",
      "Downloading http://fashion-mnist.s3-website.eu-central-1.amazonaws.com/t10k-images-idx3-ubyte.gz\n",
      "Downloading http://fashion-mnist.s3-website.eu-central-1.amazonaws.com/t10k-labels-idx1-ubyte.gz\n",
      "Processing...\n",
      "Done!\n"
     ]
    }
   ],
   "source": [
    "train_loader = torch.utils.data.DataLoader(\n",
    "    dataset=datasets.FashionMNIST(root='fmnist', train=True,\n",
    "                                  transform=train_transformer,\n",
    "                                  download=True),\n",
    "    batch_size=64)\n",
    "val_loader = torch.utils.data.DataLoader(\n",
    "    dataset=datasets.FashionMNIST(root='fmnist', train=False,\n",
    "                                  transform=val_transformer,\n",
    "                                  download=True),\n",
    "    batch_size=128)"
   ]
  },
  {
   "cell_type": "code",
   "execution_count": 4,
   "metadata": {},
   "outputs": [],
   "source": [
    "class Model(nn.Module):\n",
    "    def __init__(self):\n",
    "        super().__init__()\n",
    "        self.fc = nn.Linear(28 * 28, 10, bias=True) # w -> (28 * 28, 10), b -> (10)\n",
    "    def forward(self, x):\n",
    "        # x -> (batch size, 1, 28, 28)\n",
    "        # expects -> (batch size, 28 * 28)\n",
    "        x = x.view(-1, 28 * 28)\n",
    "        x = self.fc(x)\n",
    "        # x -> (batch size, 10)\n",
    "        return x"
   ]
  },
  {
   "cell_type": "code",
   "execution_count": 5,
   "metadata": {},
   "outputs": [],
   "source": [
    "net = Model()\n",
    "celoss = nn.CrossEntropyLoss()\n",
    "opt = optim.SGD(net.parameters(), lr=0.01, momentum=0.9)"
   ]
  },
  {
   "cell_type": "code",
   "execution_count": 6,
   "metadata": {},
   "outputs": [
    {
     "name": "stdout",
     "output_type": "stream",
     "text": [
      "Epoch 1\n",
      "0 99\n",
      "0 199\n",
      "0 299\n",
      "0 399\n",
      "0 499\n",
      "0 599\n",
      "0 699\n",
      "0 799\n",
      "0 899\n",
      "Validation accuracy: 76.48\n",
      "Epoch 2\n",
      "1 99\n",
      "1 199\n",
      "1 299\n",
      "1 399\n",
      "1 499\n",
      "1 599\n",
      "1 699\n",
      "1 799\n",
      "1 899\n",
      "Validation accuracy: 77.66\n",
      "Epoch 3\n",
      "2 99\n",
      "2 199\n",
      "2 299\n",
      "2 399\n",
      "2 499\n",
      "2 599\n",
      "2 699\n",
      "2 799\n",
      "2 899\n",
      "Validation accuracy: 78.43\n",
      "Epoch 4\n",
      "3 99\n",
      "3 199\n",
      "3 299\n",
      "3 399\n",
      "3 499\n",
      "3 599\n",
      "3 699\n",
      "3 799\n",
      "3 899\n",
      "Validation accuracy: 78.68\n",
      "Epoch 5\n",
      "4 99\n",
      "4 199\n",
      "4 299\n",
      "4 399\n",
      "4 499\n",
      "4 599\n",
      "4 699\n",
      "4 799\n",
      "4 899\n",
      "Validation accuracy: 78.8\n"
     ]
    }
   ],
   "source": [
    "for e in range(5):\n",
    "    print(f'Epoch {e + 1}')\n",
    "    for i, (images, labels) in enumerate(train_loader):\n",
    "        if ( i + 1) % 100 == 0:\n",
    "            print(e, i)\n",
    "        yhat = net(images)\n",
    "        opt.zero_grad()\n",
    "        loss = celoss(yhat, labels)\n",
    "        loss.backward()\n",
    "        opt.step()\n",
    "    \n",
    "    preds_arr = []\n",
    "    labels_arr = []\n",
    "    for val_images, val_labels in val_loader:\n",
    "        val_yhat = net(val_images)\n",
    "        preds = val_yhat.argmax(dim=1)\n",
    "        preds_arr.append(preds)\n",
    "        labels_arr.append(val_labels)\n",
    "    preds = np.hstack(preds_arr)\n",
    "    labels = np.hstack(labels_arr)\n",
    "\n",
    "    accuracy = (preds == labels).sum() / preds.shape[0]\n",
    "    print(f'Validation accuracy: {accuracy * 100}')"
   ]
  },
  {
   "cell_type": "code",
   "execution_count": null,
   "metadata": {},
   "outputs": [],
   "source": []
  }
 ],
 "metadata": {
  "kernelspec": {
   "display_name": "Python 3",
   "language": "python",
   "name": "python3"
  },
  "language_info": {
   "codemirror_mode": {
    "name": "ipython",
    "version": 3
   },
   "file_extension": ".py",
   "mimetype": "text/x-python",
   "name": "python",
   "nbconvert_exporter": "python",
   "pygments_lexer": "ipython3",
   "version": "3.7.0"
  }
 },
 "nbformat": 4,
 "nbformat_minor": 2
}
